{
 "cells": [
  {
   "cell_type": "code",
   "execution_count": 29,
   "metadata": {},
   "outputs": [
    {
     "name": "stdout",
     "output_type": "stream",
     "text": [
      "[97 64 80 56 71 95  9  3 65 61]\n",
      "int32\n"
     ]
    }
   ],
   "source": [
    "import numpy as np \n",
    "\n",
    "arr = np.random.randint(0,100,size=10)\n",
    "\n",
    "print(arr)\n",
    "print(arr.dtype)"
   ]
  },
  {
   "cell_type": "code",
   "execution_count": 32,
   "metadata": {},
   "outputs": [
    {
     "name": "stdout",
     "output_type": "stream",
     "text": [
      "0.004888093670410876\n",
      "0.9138732625971822\n"
     ]
    }
   ],
   "source": [
    "mat  = np.random.rand(5,5)\n",
    "\n",
    "print(np.min(mat))\n",
    "print(np.max(mat))"
   ]
  },
  {
   "cell_type": "code",
   "execution_count": 34,
   "metadata": {},
   "outputs": [
    {
     "name": "stdout",
     "output_type": "stream",
     "text": [
      "[0.67462246 0.28305343 0.6307112  0.51224785 0.4807066  0.34419224\n",
      " 0.41653709 0.43101972 0.95096474 0.74716764]\n",
      "[6 2 6 5 4 3 4 4 9 7]\n"
     ]
    }
   ],
   "source": [
    "arr = np.random.rand(10)\n",
    "\n",
    "arr_int = (arr * 10).astype(int)\n",
    "print(arr)\n",
    "print(arr_int)"
   ]
  },
  {
   "cell_type": "code",
   "execution_count": 35,
   "metadata": {},
   "outputs": [
    {
     "name": "stdout",
     "output_type": "stream",
     "text": [
      "[[ 4  3  9]\n",
      " [-1 -1 -1]\n",
      " [ 8  4  5]]\n"
     ]
    }
   ],
   "source": [
    "mat = np.random.randint(0,10,(3,3))\n",
    "mat[1, :] = -1\n",
    "\n",
    "print(mat)"
   ]
  },
  {
   "cell_type": "code",
   "execution_count": null,
   "metadata": {},
   "outputs": [],
   "source": [
    "data = {\"fruta\":[\"Banana\",\"Maça\",\"Pera\"],                 \n",
    "        \"preco\":[7,90,10,20,11,80],\n",
    "        \"quantidade\":[12,3,4]\n",
    "      }"
   ]
  }
 ],
 "metadata": {
  "kernelspec": {
   "display_name": "Python 3",
   "language": "python",
   "name": "python3"
  },
  "language_info": {
   "codemirror_mode": {
    "name": "ipython",
    "version": 3
   },
   "file_extension": ".py",
   "mimetype": "text/x-python",
   "name": "python",
   "nbconvert_exporter": "python",
   "pygments_lexer": "ipython3",
   "version": "3.10.7"
  }
 },
 "nbformat": 4,
 "nbformat_minor": 2
}
