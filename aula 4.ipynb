{
 "cells": [
  {
   "cell_type": "code",
   "execution_count": 1,
   "metadata": {},
   "outputs": [
    {
     "name": "stdout",
     "output_type": "stream",
     "text": [
      "print B: 200\n",
      "print A 10\n",
      "print D: 3\n",
      "print C: None\n"
     ]
    }
   ],
   "source": [
    "x =200\n",
    "print(\"print B:\",x)\n",
    "def mostraX(x):\n",
    "    print(\"print A\",x)\n",
    "    x = 3\n",
    "    print(\"print D:\",x)\n",
    "\n",
    "\n",
    "\n",
    "x = mostraX(10)\n",
    "print(\"print C:\",x)"
   ]
  },
  {
   "cell_type": "code",
   "execution_count": 2,
   "metadata": {},
   "outputs": [
    {
     "data": {
      "text/plain": [
       "16"
      ]
     },
     "execution_count": 2,
     "metadata": {},
     "output_type": "execute_result"
    }
   ],
   "source": [
    "quadrado = lambda x: x**2\n",
    "quadrado(4)"
   ]
  },
  {
   "cell_type": "code",
   "execution_count": 3,
   "metadata": {},
   "outputs": [
    {
     "data": {
      "text/plain": [
       "False"
      ]
     },
     "execution_count": 3,
     "metadata": {},
     "output_type": "execute_result"
    }
   ],
   "source": [
    "eh_par = lambda x: (x % 2) ==0\n",
    "eh_par(3)"
   ]
  },
  {
   "cell_type": "code",
   "execution_count": 4,
   "metadata": {},
   "outputs": [
    {
     "name": "stdout",
     "output_type": "stream",
     "text": [
      "[1, 4, 16]\n"
     ]
    }
   ],
   "source": [
    "lista_quadrados = list(map(quadrado,(1,2,4)))\n",
    "print(lista_quadrados)"
   ]
  },
  {
   "cell_type": "code",
   "execution_count": 5,
   "metadata": {},
   "outputs": [],
   "source": [
    "from datetime import datetime\n"
   ]
  },
  {
   "cell_type": "code",
   "execution_count": 8,
   "metadata": {},
   "outputs": [
    {
     "name": "stdout",
     "output_type": "stream",
     "text": [
      "Requirement already satisfied: plyer in c:\\python310\\lib\\site-packages (2.1.0)\n"
     ]
    },
    {
     "name": "stderr",
     "output_type": "stream",
     "text": [
      "\n",
      "[notice] A new release of pip available: 22.2.2 -> 23.3.1\n",
      "[notice] To update, run: C:\\Python310\\python.exe -m pip install --upgrade pip\n"
     ]
    }
   ],
   "source": [
    "!pip install plyer"
   ]
  },
  {
   "cell_type": "code",
   "execution_count": 1,
   "metadata": {},
   "outputs": [
    {
     "ename": "ModuleNotFoundError",
     "evalue": "No module named 'plyer'",
     "output_type": "error",
     "traceback": [
      "\u001b[1;31m---------------------------------------------------------------------------\u001b[0m",
      "\u001b[1;31mModuleNotFoundError\u001b[0m                       Traceback (most recent call last)",
      "\u001b[1;32mc:\\Users\\evesb\\OneDrive\\Área de Trabalho\\dev\\11- Coder House Python\\hello word\\aula 4.ipynb Cell 7\u001b[0m line \u001b[0;36m1\n\u001b[1;32m----> <a href='vscode-notebook-cell:/c%3A/Users/evesb/OneDrive/%C3%81rea%20de%20Trabalho/dev/11-%20Coder%20House%20Python/hello%20word/aula%204.ipynb#X13sZmlsZQ%3D%3D?line=0'>1</a>\u001b[0m \u001b[39mfrom\u001b[39;00m \u001b[39mplyer\u001b[39;00m \u001b[39mimport\u001b[39;00m notification \n\u001b[0;32m      <a href='vscode-notebook-cell:/c%3A/Users/evesb/OneDrive/%C3%81rea%20de%20Trabalho/dev/11-%20Coder%20House%20Python/hello%20word/aula%204.ipynb#X13sZmlsZQ%3D%3D?line=1'>2</a>\u001b[0m notification\u001b[39m.\u001b[39mnotify(\n\u001b[0;32m      <a href='vscode-notebook-cell:/c%3A/Users/evesb/OneDrive/%C3%81rea%20de%20Trabalho/dev/11-%20Coder%20House%20Python/hello%20word/aula%204.ipynb#X13sZmlsZQ%3D%3D?line=2'>3</a>\u001b[0m      title\u001b[39m=\u001b[39m\u001b[39m'\u001b[39m\u001b[39mTítulo da notificação\u001b[39m\u001b[39m'\u001b[39m,\n\u001b[0;32m      <a href='vscode-notebook-cell:/c%3A/Users/evesb/OneDrive/%C3%81rea%20de%20Trabalho/dev/11-%20Coder%20House%20Python/hello%20word/aula%204.ipynb#X13sZmlsZQ%3D%3D?line=3'>4</a>\u001b[0m      message\u001b[39m=\u001b[39m\u001b[39m'\u001b[39m\u001b[39mMensagem da notificação\u001b[39m\u001b[39m'\u001b[39m,\n\u001b[0;32m      <a href='vscode-notebook-cell:/c%3A/Users/evesb/OneDrive/%C3%81rea%20de%20Trabalho/dev/11-%20Coder%20House%20Python/hello%20word/aula%204.ipynb#X13sZmlsZQ%3D%3D?line=4'>5</a>\u001b[0m      app_name\u001b[39m=\u001b[39m\u001b[39m'\u001b[39m\u001b[39mNome do aplicativo\u001b[39m\u001b[39m'\u001b[39m,\n\u001b[0;32m      <a href='vscode-notebook-cell:/c%3A/Users/evesb/OneDrive/%C3%81rea%20de%20Trabalho/dev/11-%20Coder%20House%20Python/hello%20word/aula%204.ipynb#X13sZmlsZQ%3D%3D?line=5'>6</a>\u001b[0m      timeout\u001b[39m=\u001b[39m\u001b[39m10\u001b[39m )\n",
      "\u001b[1;31mModuleNotFoundError\u001b[0m: No module named 'plyer'"
     ]
    }
   ],
   "source": [
    "from plyer import notification \n",
    "notification.notify(\n",
    "     title='Título da notificação',\n",
    "     message='Mensagem da notificação',\n",
    "     app_name='Nome do aplicativo',\n",
    "     timeout=10 )"
   ]
  }
 ],
 "metadata": {
  "kernelspec": {
   "display_name": "Python 3",
   "language": "python",
   "name": "python3"
  },
  "language_info": {
   "codemirror_mode": {
    "name": "ipython",
    "version": 3
   },
   "file_extension": ".py",
   "mimetype": "text/x-python",
   "name": "python",
   "nbconvert_exporter": "python",
   "pygments_lexer": "ipython3",
   "version": "3.12.0"
  }
 },
 "nbformat": 4,
 "nbformat_minor": 2
}
