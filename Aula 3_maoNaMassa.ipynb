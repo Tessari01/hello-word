{
 "cells": [
  {
   "cell_type": "markdown",
   "metadata": {},
   "source": [
    "\n",
    "\n",
    "## Exercício 1"
   ]
  },
  {
   "cell_type": "code",
   "execution_count": 13,
   "metadata": {},
   "outputs": [
    {
     "name": "stdout",
     "output_type": "stream",
     "text": [
      "valor5 é impar \n"
     ]
    }
   ],
   "source": [
    "# numero = 4\n",
    "numero = input(\"digite um numero inteiro\")\n",
    "if float(numero) % 2 == 0:\n",
    "    print(f'valor {numero} é par ')\n",
    "else: print(f'valor{numero} é impar ') \n"
   ]
  },
  {
   "cell_type": "markdown",
   "metadata": {},
   "source": [
    "\n",
    "\n",
    "## Exercício 2\n"
   ]
  },
  {
   "cell_type": "code",
   "execution_count": 26,
   "metadata": {},
   "outputs": [
    {
     "name": "stdout",
     "output_type": "stream",
     "text": [
      "Everton tem o Tamanho: 7 \n",
      "Tessari tem o Tamanho: 7 \n",
      "Frase digitada : Everton Tessari\n"
     ]
    }
   ],
   "source": [
    "frase = input('Digite uma frase')\n",
    "lista_frase = frase.split(\" \")\n",
    "for lista_frases in lista_frase: \n",
    "    tamanho =  len(lista_frases)     \n",
    "    print(f'{lista_frases} tem o Tamanho: {tamanho} ') \n",
    "print(f'Frase digitada : {frase}')   \n",
    " "
   ]
  },
  {
   "cell_type": "markdown",
   "metadata": {},
   "source": [
    "\n",
    "\n",
    "## Exercício 3\n",
    "\n"
   ]
  }
 ],
 "metadata": {
  "kernelspec": {
   "display_name": "Python 3",
   "language": "python",
   "name": "python3"
  },
  "language_info": {
   "codemirror_mode": {
    "name": "ipython",
    "version": 3
   },
   "file_extension": ".py",
   "mimetype": "text/x-python",
   "name": "python",
   "nbconvert_exporter": "python",
   "pygments_lexer": "ipython3",
   "version": "3.12.0"
  }
 },
 "nbformat": 4,
 "nbformat_minor": 2
}
