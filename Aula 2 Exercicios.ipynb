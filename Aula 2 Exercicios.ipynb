{
 "cells": [
  {
   "cell_type": "code",
   "execution_count": null,
   "metadata": {},
   "outputs": [],
   "source": []
  },
  {
   "cell_type": "markdown",
   "metadata": {},
   "source": [
    "# Aula 02 Fundamentos de programação I\n",
    "# Em Sala\n",
    "## Exercício 1"
   ]
  },
  {
   "cell_type": "code",
   "execution_count": null,
   "metadata": {},
   "outputs": [
    {
     "name": "stdout",
     "output_type": "stream",
     "text": [
      "Seu novo saldo é 900.6.\n"
     ]
    }
   ],
   "source": [
    "saldo = 950.60\n",
    "saque = float(input(\"Quanto dinheiro você deseja sacar? \"))\n",
    "\n",
    "novo_saldo = saldo - saque\n",
    "print(f\"Seu novo saldo é {novo_saldo}.\")"
   ]
  },
  {
   "cell_type": "markdown",
   "metadata": {},
   "source": [
    "## Exercício 2"
   ]
  },
  {
   "cell_type": "code",
   "execution_count": null,
   "metadata": {},
   "outputs": [
    {
     "data": {
      "text/plain": [
       "['abacaxi', 'maçã', 'banana', 'laranja', 'manga']"
      ]
     },
     "metadata": {},
     "output_type": "display_data"
    }
   ],
   "source": [
    "frutas = [\"banana\", \"maçã\", \"abacaxi\", \"laranja\", \"manga\"]\n",
    "\n",
    "fruta = input(\"Digite o nome de uma fruta: \")\n",
    "\n",
    "frutas.append(fruta)\n",
    "\n",
    "frutas = list(set(frutas))\n",
    "frutas"
   ]
  },
  {
   "cell_type": "markdown",
   "metadata": {},
   "source": [
    "## Exercício 3"
   ]
  },
  {
   "cell_type": "code",
   "execution_count": null,
   "metadata": {},
   "outputs": [
    {
     "name": "stdout",
     "output_type": "stream",
     "text": [
      "Frase com vogais substituídas: *l* m*nd*\n"
     ]
    }
   ],
   "source": [
    "frase = input(\"Digite uma frase: \")\n",
    "\n",
    "substituida = frase.replace('a', '*').replace('e', '*').replace('i', '*').replace('o', '*').replace('u', '*')\n",
    "\n",
    "print(\"Frase com vogais substituídas:\", substituida)"
   ]
  },
  {
   "cell_type": "markdown",
   "metadata": {},
   "source": [
    "# Desafio Complementar"
   ]
  },
  {
   "cell_type": "markdown",
   "metadata": {},
   "source": [
    "## Exercício 1"
   ]
  },
  {
   "cell_type": "code",
   "execution_count": null,
   "metadata": {},
   "outputs": [
    {
     "name": "stdout",
     "output_type": "stream",
     "text": [
      "Seu IMC é: 2.50\n"
     ]
    }
   ],
   "source": [
    "# Pergunta ao usuário o peso em kg e altura em metros\n",
    "peso = float(input(\"Qual é o seu peso em kg? \"))\n",
    "altura = float(input(\"Qual é a sua altura em metros? \"))\n",
    "\n",
    "# Calcula o IMC (Índice de Massa Corporal)\n",
    "imc = peso / (altura ** 2)\n",
    "\n",
    "# Imprime o resultado\n",
    "print(\"Seu IMC é: {:.2f}\".format(imc))"
   ]
  },
  {
   "cell_type": "markdown",
   "metadata": {},
   "source": [
    "## Exercício 2"
   ]
  },
  {
   "cell_type": "code",
   "execution_count": null,
   "metadata": {},
   "outputs": [
    {
     "name": "stdout",
     "output_type": "stream",
     "text": [
      "Sua lista: [1.0, 3.0, 2.0, 5.0, 4.0]\n"
     ]
    }
   ],
   "source": [
    "lista = []\n",
    "lista.append(float(input(\"num 1:\")))\n",
    "lista.append(float(input(\"num 2:\")))\n",
    "lista.append(float(input(\"num 3:\")))\n",
    "lista.append(float(input(\"num 4:\")))\n",
    "lista.append(float(input(\"num 5:\")))\n",
    "\n",
    "print(\"Sua lista:\", lista)"
   ]
  },
  {
   "cell_type": "markdown",
   "metadata": {},
   "source": [
    "## Exercício 3"
   ]
  },
  {
   "cell_type": "code",
   "execution_count": null,
   "metadata": {},
   "outputs": [],
   "source": [
    "nomes = input(\"Digite uma lista de nomes separados por vírgula: \")\n",
    "\n",
    "lista_nomes = nomes.split(\",\")\n",
    "\n",
    "print(\"Lista de nomes:\", lista_nomes)"
   ]
  }
 ],
 "metadata": {
  "language_info": {
   "name": "python"
  }
 },
 "nbformat": 4,
 "nbformat_minor": 2
}
