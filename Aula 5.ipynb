{
 "cells": [
  {
   "cell_type": "code",
   "execution_count": 3,
   "metadata": {},
   "outputs": [],
   "source": [
    "class Pessoa:\n",
    "    def __init__(self,nome, idade):\n",
    "        print('instanciado Pessoa')\n",
    "        #variaveis\n",
    "        self.nome = nome\n",
    "        self.idade = idade\n",
    "\n",
    "    def diz_oi(self):\n",
    "        print('oi,meu nome é ',self.nome)    "
   ]
  },
  {
   "cell_type": "code",
   "execution_count": 4,
   "metadata": {},
   "outputs": [],
   "source": [
    "class Homem(Pessoa):\n",
    "    def __init__(seft,nome,idade):\n",
    "        super().__init__(nome,idade)\n",
    "        self.gereno = 'Homem'\n",
    "\n",
    "    def jogar_bola(self):\n",
    "        print('joga bola')    "
   ]
  },
  {
   "cell_type": "code",
   "execution_count": 5,
   "metadata": {},
   "outputs": [
    {
     "name": "stdout",
     "output_type": "stream",
     "text": [
      "instanciado Pessoa\n"
     ]
    },
    {
     "data": {
      "text/plain": [
       "<__main__.Pessoa at 0x24b69aa6a40>"
      ]
     },
     "execution_count": 5,
     "metadata": {},
     "output_type": "execute_result"
    }
   ],
   "source": [
    "Pessoa('Everton',27)"
   ]
  }
 ],
 "metadata": {
  "kernelspec": {
   "display_name": "Python 3",
   "language": "python",
   "name": "python3"
  },
  "language_info": {
   "codemirror_mode": {
    "name": "ipython",
    "version": 3
   },
   "file_extension": ".py",
   "mimetype": "text/x-python",
   "name": "python",
   "nbconvert_exporter": "python",
   "pygments_lexer": "ipython3",
   "version": "3.10.7"
  }
 },
 "nbformat": 4,
 "nbformat_minor": 2
}
