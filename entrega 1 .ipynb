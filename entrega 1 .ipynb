{
 "cells": [
  {
   "cell_type": "code",
   "execution_count": 1,
   "metadata": {},
   "outputs": [
    {
     "name": "stdout",
     "output_type": "stream",
     "text": [
      "Requirement already satisfied: plyer in c:\\python310\\lib\\site-packages (2.1.0)\n"
     ]
    },
    {
     "name": "stderr",
     "output_type": "stream",
     "text": [
      "\n",
      "[notice] A new release of pip available: 22.2.2 -> 23.3.1\n",
      "[notice] To update, run: python.exe -m pip install --upgrade pip\n"
     ]
    }
   ],
   "source": [
    "#!pip install plyer"
   ]
  },
  {
   "cell_type": "code",
   "execution_count": 5,
   "metadata": {},
   "outputs": [
    {
     "name": "stdout",
     "output_type": "stream",
     "text": [
      "Collecting datetime\n",
      "  Downloading DateTime-5.2-py3-none-any.whl (52 kB)\n",
      "     ---------------------------------------- 52.2/52.2 kB 2.6 MB/s eta 0:00:00\n",
      "Collecting zope.interface\n",
      "  Downloading zope.interface-6.1-cp310-cp310-win_amd64.whl (204 kB)\n",
      "     -------------------------------------- 204.2/204.2 kB 6.3 MB/s eta 0:00:00\n",
      "Collecting pytz\n",
      "  Downloading pytz-2023.3.post1-py2.py3-none-any.whl (502 kB)\n",
      "     ------------------------------------- 502.5/502.5 kB 15.9 MB/s eta 0:00:00\n",
      "Requirement already satisfied: setuptools in c:\\python310\\lib\\site-packages (from zope.interface->datetime) (63.2.0)\n",
      "Installing collected packages: pytz, zope.interface, datetime\n",
      "Successfully installed datetime-5.2 pytz-2023.3.post1 zope.interface-6.1\n"
     ]
    },
    {
     "name": "stderr",
     "output_type": "stream",
     "text": [
      "\n",
      "[notice] A new release of pip available: 22.2.2 -> 23.3.1\n",
      "[notice] To update, run: python.exe -m pip install --upgrade pip\n"
     ]
    }
   ],
   "source": [
    "\n",
    "\n",
    "#!pip install datetime"
   ]
  },
  {
   "cell_type": "code",
   "execution_count": 1,
   "metadata": {},
   "outputs": [],
   "source": [
    "from plyer import notification \n",
    "notification.notify(\n",
    "     title='Título da notificação',\n",
    "     message='Mensagem da notificação',\n",
    "     app_name='Nome do aplicativo',\n",
    "     timeout=10 )\n"
   ]
  },
  {
   "cell_type": "code",
   "execution_count": 4,
   "metadata": {},
   "outputs": [
    {
     "data": {
      "text/plain": [
       "True"
      ]
     },
     "execution_count": 4,
     "metadata": {},
     "output_type": "execute_result"
    }
   ],
   "source": [
    "eh_multiplo_dez = lambda x: x % 10 == 0\n",
    "eh_multiplo_dez(30)    "
   ]
  },
  {
   "cell_type": "code",
   "execution_count": 3,
   "metadata": {},
   "outputs": [
    {
     "data": {
      "text/plain": [
       "6"
      ]
     },
     "execution_count": 3,
     "metadata": {},
     "output_type": "execute_result"
    }
   ],
   "source": [
    "def calc_fatorial(n):\n",
    "    fatorial = 1\n",
    "    for i in range(1,n+1):\n",
    "        fatorial *= i\n",
    "    return fatorial\n",
    "\n",
    "calc_fatorial(3)    "
   ]
  },
  {
   "cell_type": "code",
   "execution_count": 4,
   "metadata": {},
   "outputs": [
    {
     "name": "stdout",
     "output_type": "stream",
     "text": [
      "['João', 'Maria', 'Ana', 'Ana']\n"
     ]
    }
   ],
   "source": [
    "def primeiro_nome(nome_completo):\n",
    "    nome_split = nome_completo.split()\n",
    "    return nome_split[0]\n",
    "\n",
    "nomes = ['João Carlos','Maria Eduardo','Ana Rute' , 'Ana Clara']\n",
    "\n",
    "so_primeio_nome = list(map(primeiro_nome,nomes))\n",
    "\n",
    "print(so_primeio_nome)\n"
   ]
  },
  {
   "cell_type": "code",
   "execution_count": 6,
   "metadata": {},
   "outputs": [
    {
     "ename": "AttributeError",
     "evalue": "'method_descriptor' object has no attribute 'strftime'",
     "output_type": "error",
     "traceback": [
      "\u001b[1;31m---------------------------------------------------------------------------\u001b[0m",
      "\u001b[1;31mAttributeError\u001b[0m                            Traceback (most recent call last)",
      "\u001b[1;32mc:\\Users\\evesb\\OneDrive\\Área de Trabalho\\dev\\11- Coder House Python\\hello word\\entrega 1 .ipynb Cell 7\u001b[0m line \u001b[0;36m1\n\u001b[0;32m      <a href='vscode-notebook-cell:/c%3A/Users/evesb/OneDrive/%C3%81rea%20de%20Trabalho/dev/11-%20Coder%20House%20Python/hello%20word/entrega%201%20.ipynb#W6sZmlsZQ%3D%3D?line=6'>7</a>\u001b[0m     \u001b[39mreturn\u001b[39;00m nome_dia_da_semana\n\u001b[0;32m      <a href='vscode-notebook-cell:/c%3A/Users/evesb/OneDrive/%C3%81rea%20de%20Trabalho/dev/11-%20Coder%20House%20Python/hello%20word/entrega%201%20.ipynb#W6sZmlsZQ%3D%3D?line=8'>9</a>\u001b[0m data \u001b[39m=\u001b[39m \u001b[39m'\u001b[39m\u001b[39m10/04/2023\u001b[39m\u001b[39m'\u001b[39m\n\u001b[1;32m---> <a href='vscode-notebook-cell:/c%3A/Users/evesb/OneDrive/%C3%81rea%20de%20Trabalho/dev/11-%20Coder%20House%20Python/hello%20word/entrega%201%20.ipynb#W6sZmlsZQ%3D%3D?line=9'>10</a>\u001b[0m \u001b[39mprint\u001b[39m(dia_da_semana(data))\n",
      "\u001b[1;32mc:\\Users\\evesb\\OneDrive\\Área de Trabalho\\dev\\11- Coder House Python\\hello word\\entrega 1 .ipynb Cell 7\u001b[0m line \u001b[0;36m5\n\u001b[0;32m      <a href='vscode-notebook-cell:/c%3A/Users/evesb/OneDrive/%C3%81rea%20de%20Trabalho/dev/11-%20Coder%20House%20Python/hello%20word/entrega%201%20.ipynb#W6sZmlsZQ%3D%3D?line=2'>3</a>\u001b[0m \u001b[39mdef\u001b[39;00m \u001b[39mdia_da_semana\u001b[39m(data):\n\u001b[0;32m      <a href='vscode-notebook-cell:/c%3A/Users/evesb/OneDrive/%C3%81rea%20de%20Trabalho/dev/11-%20Coder%20House%20Python/hello%20word/entrega%201%20.ipynb#W6sZmlsZQ%3D%3D?line=3'>4</a>\u001b[0m     data \u001b[39m=\u001b[39m datetime\u001b[39m.\u001b[39mstrftime\n\u001b[1;32m----> <a href='vscode-notebook-cell:/c%3A/Users/evesb/OneDrive/%C3%81rea%20de%20Trabalho/dev/11-%20Coder%20House%20Python/hello%20word/entrega%201%20.ipynb#W6sZmlsZQ%3D%3D?line=4'>5</a>\u001b[0m     nome_dia_da_semana \u001b[39m=\u001b[39m data\u001b[39m.\u001b[39;49mstrftime(\u001b[39m'\u001b[39m\u001b[39m%\u001b[39m\u001b[39mA\u001b[39m\u001b[39m'\u001b[39m)\n\u001b[0;32m      <a href='vscode-notebook-cell:/c%3A/Users/evesb/OneDrive/%C3%81rea%20de%20Trabalho/dev/11-%20Coder%20House%20Python/hello%20word/entrega%201%20.ipynb#W6sZmlsZQ%3D%3D?line=6'>7</a>\u001b[0m     \u001b[39mreturn\u001b[39;00m nome_dia_da_semana\n",
      "\u001b[1;31mAttributeError\u001b[0m: 'method_descriptor' object has no attribute 'strftime'"
     ]
    }
   ],
   "source": [
    "from datetime import datetime\n",
    "\n",
    "def dia_da_semana(data):\n",
    "    data = datetime.strftime\n",
    "    nome_dia_da_semana = data.strftime('%A')\n",
    "\n",
    "    return nome_dia_da_semana\n",
    "\n",
    "data = '10/04/2023'\n",
    "print(dia_da_semana(data))"
   ]
  }
 ],
 "metadata": {
  "kernelspec": {
   "display_name": "Python 3",
   "language": "python",
   "name": "python3"
  },
  "language_info": {
   "codemirror_mode": {
    "name": "ipython",
    "version": 3
   },
   "file_extension": ".py",
   "mimetype": "text/x-python",
   "name": "python",
   "nbconvert_exporter": "python",
   "pygments_lexer": "ipython3",
   "version": "3.10.7"
  }
 },
 "nbformat": 4,
 "nbformat_minor": 2
}
